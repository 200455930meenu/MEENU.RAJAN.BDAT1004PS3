{
 "cells": [
  {
   "cell_type": "code",
   "execution_count": null,
   "metadata": {},
   "outputs": [],
   "source": [
    "#Question3\n",
    "import pandas as pd\n",
    "\n",
    "a= pd.Series([1,2,3,4])\n",
    "b= pd.Series([1,2,3])\n",
    "c= pd.Series([10000,10001,10010,10020,10500,20000,20001,20010,20020,20500,30000])\n",
    "index= [bedrs, bathrs, price_sqr_meter]\n",
    "numSeries=pd.DataFrame({series1:a , series2:b , series3:c})\n"
   ]
  },
  {
   "cell_type": "markdown",
   "metadata": {},
   "source": [
    "#Question4\n",
    "import pandas as pd\n",
    "data = pd.read_csv(r'https://raw.githubusercontent.com/guipsamora/pandas_exercises/master/06_Stats/Wind_Stats/wind.data')\n",
    "data.head()\n"
   ]
  },
  {
   "cell_type": "code",
   "execution_count": null,
   "metadata": {},
   "outputs": [],
   "source": [
    "#Question5"
   ]
  },
  {
   "cell_type": "code",
   "execution_count": null,
   "metadata": {},
   "outputs": [],
   "source": [
    "#Question6\n"
   ]
  },
  {
   "cell_type": "code",
   "execution_count": null,
   "metadata": {},
   "outputs": [],
   "source": [
    "#Question7"
   ]
  },
  {
   "cell_type": "code",
   "execution_count": null,
   "metadata": {},
   "outputs": [],
   "source": [
    "#Question8"
   ]
  },
  {
   "cell_type": "code",
   "execution_count": null,
   "metadata": {},
   "outputs": [],
   "source": [
    "#Question9\n"
   ]
  },
  {
   "cell_type": "code",
   "execution_count": null,
   "metadata": {},
   "outputs": [],
   "source": [
    "#Question10\n",
    "import pandas as pd\n",
    "import matplotlib.pyplot as plt\n",
    "%matplotlib inline\n",
    "phd = pd.read_csv('arcade-revenue-vs-cs-doctorates.csv', names=['Year','Total Arcade Revenue','Computer Science Doctorates Awarded ']) \n",
    "phd.head()\n",
    "fig, ax = plt.subplots()\n",
    "ax.scatter(phd['Total Arcade Revenue'], phd['Computer Science Doctorates Awarded '])\n",
    "ax.set_title('Arcade Doctorate Dataset')\n",
    "ax.set_xlabel('Total Arcade Revenue')\n",
    "ax.set_ylabel('Computer Science Doctorates Awarded ')"
   ]
  }
 ],
 "metadata": {
  "kernelspec": {
   "display_name": "Python 3",
   "language": "python",
   "name": "python3"
  },
  "language_info": {
   "codemirror_mode": {
    "name": "ipython",
    "version": 3
   },
   "file_extension": ".py",
   "mimetype": "text/x-python",
   "name": "python",
   "nbconvert_exporter": "python",
   "pygments_lexer": "ipython3",
   "version": "3.8.3"
  }
 },
 "nbformat": 4,
 "nbformat_minor": 4
}
